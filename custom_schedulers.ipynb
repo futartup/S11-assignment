{
  "nbformat": 4,
  "nbformat_minor": 0,
  "metadata": {
    "kernelspec": {
      "display_name": "Python 3",
      "language": "python",
      "name": "python3"
    },
    "language_info": {
      "codemirror_mode": {
        "name": "ipython",
        "version": 3
      },
      "file_extension": ".py",
      "mimetype": "text/x-python",
      "name": "python",
      "nbconvert_exporter": "python",
      "pygments_lexer": "ipython3",
      "version": "3.6.6"
    },
    "colab": {
      "name": "custom_schedulers.ipynb",
      "provenance": [],
      "collapsed_sections": [],
      "include_colab_link": true
    }
  },
  "cells": [
    {
      "cell_type": "markdown",
      "metadata": {
        "id": "view-in-github",
        "colab_type": "text"
      },
      "source": [
        "<a href=\"https://colab.research.google.com/github/futartup/S11-assignment/blob/master/custom_schedulers.ipynb\" target=\"_parent\"><img src=\"https://colab.research.google.com/assets/colab-badge.svg\" alt=\"Open In Colab\"/></a>"
      ]
    },
    {
      "cell_type": "markdown",
      "metadata": {
        "id": "TuGE7L1CKWUQ",
        "colab_type": "text"
      },
      "source": [
        "# One Cycle Policy LR finder and plot the graph as well. This is a function which returns the LR according to the one cycle policy"
      ]
    },
    {
      "cell_type": "code",
      "metadata": {
        "id": "uwEke9VnKnrC",
        "colab_type": "code",
        "colab": {
          "base_uri": "https://localhost:8080/",
          "height": 265
        },
        "outputId": "16da5cb9-4fd3-4c8d-9de8-bbc5e393227c"
      },
      "source": [
        "import math\n",
        "import matplotlib.pyplot as plt\n",
        "from torch.optim import Optimizer\n",
        "import torch.nn as nn\n",
        "\n",
        "\n",
        "# Class implementing Cycle LR policy by Leslie Smith ( LeslieSmithCyclicLR )\n",
        "class LeslieSmithCyclicLR:\n",
        "  def __init__(self, \n",
        "               optimizer: Optimizer=None, \n",
        "               lr_range: tuple=(0.1, 1.0), \n",
        "               num_steps: int = 1,\n",
        "               num_cycles: int = 1):\n",
        "    # Sanity check\n",
        "    # if not isinstance(optimizer, Optimizer):\n",
        "    #   raise TypeError('{} is not an optimizer'.format(optimizer.__name__))\n",
        "    # self.optimizer = optimizer\n",
        "\n",
        "    self.num_steps = num_steps\n",
        "\n",
        "    assert len(lr_range) == 2, \"The lr range should contain both min and max lr\"\n",
        "    assert lr_range[0] < lr_range[1], \"The first element of the range should be \\\n",
        "    less than the second element\"\n",
        "    self.min_lr, self.max_lr = lr_range[0], lr_range[1]\n",
        "\n",
        "    assert num_steps > 0, \" The num_steps should be greater than 0\"\n",
        "    self.num_steps = num_steps\n",
        "\n",
        "    self.num_cycles = num_cycles\n",
        "    \n",
        "    self.lr_array = []\n",
        "\n",
        "    self.increase = True\n",
        "    self.decrease = False\n",
        "  \n",
        "  def state_dict(self):\n",
        "    \"\"\"\n",
        "    Returns the state of the scheduler as a :class:`dict`.\n",
        "    It contains an entry for every variable in self.__dict__ which\n",
        "    is not the optimizer. (Borrowed from _LRScheduler class in torch.optim.lr_scheduler.py)\n",
        "    \"\"\"\n",
        "    return {key: value for key, value in self.__dict__.items() if key != 'optimizer'}\n",
        "\n",
        "  def load_state_dict(self, state_dict):\n",
        "    \"\"\"\n",
        "    Loads the schedulers state. (Borrowed from _LRScheduler class in torch.optim.lr_scheduler.py)\n",
        "    Arguments:\n",
        "            state_dict (dict): scheduler state. Should be an object returned\n",
        "            from a call to :meth:`state_dict`.\n",
        "    \"\"\"\n",
        "    self.__dict__.update(state_dict)\n",
        "\n",
        "  def get_lr(self):\n",
        "    return self.optimizer.param_groups[0]['lr']\n",
        "\n",
        "  def plot_graph(self):\n",
        "    plt.plot(self.lr_array)\n",
        "    plt.legend(['Cyclic Curve'],\n",
        "                loc='upper left',\n",
        "                bbox_to_anchor=(1.05, 1), borderaxespad=0.)\n",
        "    plt.show()\n",
        "\n",
        "  def get_momentum(self):\n",
        "    return self.optimizer.param_groups[0]['momentum']\n",
        "\n",
        "  def step(self, iteration):\n",
        "    \"\"\"\n",
        "    update of the learning rate\n",
        "    \"\"\"  \n",
        "    stepsize = self.num_steps / 2\n",
        "    cycle = math.floor(1+ iteration/(2*stepsize))\n",
        "    x =  math.fabs(iteration/stepsize - 2*cycle + 1)\n",
        "    lr_new = self.min_lr + (self.max_lr - self.min_lr)*(1 - x)\n",
        " \n",
        "    #print(\"Learning Rate: {0} at epoch : {1}\".format(lr_new, epoch))\n",
        "    self.lr_array.append(lr_new)\n",
        "    #self.optimizer.param_groups[0]['lr'] = lr_new\n",
        "\n",
        "\n",
        "\n",
        "obj = LeslieSmithCyclicLR(None, (0.01, 1.0), 1000)\n",
        "for i in range(24):\n",
        "  for j in range(512):\n",
        "    obj.step(j)\n",
        "\n",
        "obj.plot_graph()"
      ],
      "execution_count": 16,
      "outputs": [
        {
          "output_type": "display_data",
          "data": {
            "image/png": "[encoded data removed]",
            "text/plain": [
              "<Figure size 432x288 with 1 Axes>"
            ]
          },
          "metadata": {
            "tags": [],
            "needs_background": "light"
          }
        }
      ]
    }
  ]
}